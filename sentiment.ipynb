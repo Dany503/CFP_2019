{
  "nbformat": 4,
  "nbformat_minor": 0,
  "metadata": {
    "colab": {
      "name": "sentiment.ipynb",
      "version": "0.3.2",
      "provenance": [],
      "include_colab_link": true
    },
    "kernelspec": {
      "name": "python3",
      "display_name": "Python 3"
    }
  },
  "cells": [
    {
      "cell_type": "markdown",
      "metadata": {
        "id": "view-in-github",
        "colab_type": "text"
      },
      "source": [
        "<a href=\"https://colab.research.google.com/github/Dany503/CFP_2019/blob/master/sentiment.ipynb\" target=\"_parent\"><img src=\"https://colab.research.google.com/assets/colab-badge.svg\" alt=\"Open In Colab\"/></a>"
      ]
    },
    {
      "cell_type": "code",
      "metadata": {
        "id": "YVtPr-dzgnOf",
        "colab_type": "code",
        "outputId": "f48b0ae0-09cf-4313-c29f-caff934d26bb",
        "colab": {
          "base_uri": "https://localhost:8080/",
          "height": 124
        }
      },
      "source": [
        "from google.colab import drive\n",
        "drive.mount('/content/drive')\n"
      ],
      "execution_count": 0,
      "outputs": [
        {
          "output_type": "stream",
          "text": [
            "Go to this URL in a browser: https://accounts.google.com/o/oauth2/auth?client_id=947318989803-6bn6qk8qdgf4n4g3pfee6491hc0brc4i.apps.googleusercontent.com&redirect_uri=urn%3Aietf%3Awg%3Aoauth%3A2.0%3Aoob&scope=email%20https%3A%2F%2Fwww.googleapis.com%2Fauth%2Fdocs.test%20https%3A%2F%2Fwww.googleapis.com%2Fauth%2Fdrive%20https%3A%2F%2Fwww.googleapis.com%2Fauth%2Fdrive.photos.readonly%20https%3A%2F%2Fwww.googleapis.com%2Fauth%2Fpeopleapi.readonly&response_type=code\n",
            "\n",
            "Enter your authorization code:\n",
            "··········\n",
            "Mounted at /content/drive\n"
          ],
          "name": "stdout"
        }
      ]
    },
    {
      "cell_type": "markdown",
      "metadata": {
        "id": "iIiSX16oiwu0",
        "colab_type": "text"
      },
      "source": [
        "Importamos la librerías y cargamos los datos de nuestro drive"
      ]
    },
    {
      "cell_type": "code",
      "metadata": {
        "id": "6xhYDvAoh_oe",
        "colab_type": "code",
        "outputId": "c3e12b1f-aed5-4651-9820-ed408c926d75",
        "colab": {
          "base_uri": "https://localhost:8080/",
          "height": 87
        }
      },
      "source": [
        "import pandas\n",
        "import numpy\n",
        "\n",
        "\n",
        "products = pandas.read_csv('/content/drive/My Drive/amazon_2.csv', low_memory=False, sep=',')\n",
        "products = products.fillna({'name':''})  # fill in N/A's in the review column\n",
        "products = products.fillna({'review':''})  # fill in N/A's in the review column\n",
        "print(products.dtypes)\n",
        "products.review=products.review.astype(str)"
      ],
      "execution_count": 0,
      "outputs": [
        {
          "output_type": "stream",
          "text": [
            "name      object\n",
            "review    object\n",
            "rating     int64\n",
            "dtype: object\n"
          ],
          "name": "stdout"
        }
      ]
    },
    {
      "cell_type": "markdown",
      "metadata": {
        "id": "PapvCXhLiiAO",
        "colab_type": "text"
      },
      "source": [
        "Operaciones:\n",
        "* Eliminar signos de puntuación\n",
        "* Eliminar reviews neutrales (rating 3).\n",
        "* Definir reviews con rating >=4 como positivas (+1) y reviews con rating <= 2 negativas (-1)\n"
      ]
    },
    {
      "cell_type": "code",
      "metadata": {
        "id": "Bukrp75SicE1",
        "colab_type": "code",
        "colab": {}
      },
      "source": [
        "def remove_punctuation(text):\n",
        "    import string\n",
        "    replace_punctuation=str.maketrans(string.punctuation, ' '*len(string.punctuation))\n",
        "    return text.translate(replace_punctuation) \n",
        "\n",
        "products['review_clean'] = products['review'].apply(remove_punctuation)\n",
        "products['review_clean'] = products['review_clean'].map(lambda x: x.lower())\n",
        "\n",
        "# Eliminar reviews neutrales\n",
        "products = products[products['rating'] != 3]\n",
        "# Sentimiento positivo +1 y sentimiento negativo ‐1\n",
        "products['sentiment'] = products['rating'].apply(lambda rating : +1 if rating > 3 else -1)"
      ],
      "execution_count": 0,
      "outputs": []
    },
    {
      "cell_type": "markdown",
      "metadata": {
        "id": "TlUzcIxAjCwQ",
        "colab_type": "text"
      },
      "source": [
        "Dividimos los datos en train y test"
      ]
    },
    {
      "cell_type": "code",
      "metadata": {
        "id": "WRbhJF3Gi944",
        "colab_type": "code",
        "outputId": "27636ae7-f5f7-408e-97a3-9eade31d5d08",
        "colab": {
          "base_uri": "https://localhost:8080/",
          "height": 52
        }
      },
      "source": [
        "numpy.random.seed(1) \n",
        "msk = numpy.random.rand(len(products)) < 0.8\n",
        "train_data = products[msk]\n",
        "test_data = products[~msk]\n",
        "print (len(train_data))\n",
        "print (len(test_data))    "
      ],
      "execution_count": 0,
      "outputs": [
        {
          "output_type": "stream",
          "text": [
            "42497\n",
            "10575\n"
          ],
          "name": "stdout"
        }
      ]
    },
    {
      "cell_type": "markdown",
      "metadata": {
        "id": "-MWNO27kjPPo",
        "colab_type": "text"
      },
      "source": [
        "Entrenamiento de un clasificador logístico\n",
        "\n",
        "significant_words = ['love', 'great', 'easy', 'old', 'little', 'perfect', 'loves', \n",
        "      'well', 'able', 'car', 'broke', 'less', 'even', 'waste', 'disappointed', \n",
        "       'work', 'product', 'money', 'would', 'return']"
      ]
    },
    {
      "cell_type": "code",
      "metadata": {
        "id": "ewPVmitPjIQw",
        "colab_type": "code",
        "outputId": "837fb886-9e59-4d8f-fc88-04bed001324e",
        "colab": {
          "base_uri": "https://localhost:8080/",
          "height": 159
        }
      },
      "source": [
        "from sklearn.feature_extraction.text import CountVectorizer\n",
        "vectorizer = CountVectorizer(token_pattern=r'\\b\\w+\\b')\n",
        "# Representación de documentos como bolsa de palabras\n",
        "#vectorizer = CountVectorizer(vocabulary=significant_words) # limit to 20 words\n",
        "\n",
        "# Representacion de documentos de training a partir de la bolsa de palabras\n",
        "train_matrix = vectorizer.fit_transform(train_data['review_clean'])\n",
        "# Representacion de documentos de test a partir de la bolsa de palabras\n",
        "test_matrix = vectorizer.transform(test_data['review_clean'])\n",
        "\n",
        "# Entrenamiento de clasificador logístico\n",
        "from sklearn import linear_model\n",
        "model = linear_model.LogisticRegression()\n",
        "model.fit(train_matrix, train_data['sentiment'])\n"
      ],
      "execution_count": 0,
      "outputs": [
        {
          "output_type": "stream",
          "text": [
            "/usr/local/lib/python3.6/dist-packages/sklearn/linear_model/logistic.py:432: FutureWarning: Default solver will be changed to 'lbfgs' in 0.22. Specify a solver to silence this warning.\n",
            "  FutureWarning)\n"
          ],
          "name": "stderr"
        },
        {
          "output_type": "execute_result",
          "data": {
            "text/plain": [
              "LogisticRegression(C=1.0, class_weight=None, dual=False, fit_intercept=True,\n",
              "                   intercept_scaling=1, l1_ratio=None, max_iter=100,\n",
              "                   multi_class='warn', n_jobs=None, penalty='l2',\n",
              "                   random_state=None, solver='warn', tol=0.0001, verbose=0,\n",
              "                   warm_start=False)"
            ]
          },
          "metadata": {
            "tags": []
          },
          "execution_count": 5
        }
      ]
    },
    {
      "cell_type": "markdown",
      "metadata": {
        "id": "Un3ErG6IjgRp",
        "colab_type": "text"
      },
      "source": [
        "Métricas del clasificador"
      ]
    },
    {
      "cell_type": "code",
      "metadata": {
        "id": "MY-SUlkJjZhN",
        "colab_type": "code",
        "outputId": "25587ab6-ca6b-4c44-f6bc-e7a94cd556d5",
        "colab": {
          "base_uri": "https://localhost:8080/",
          "height": 34
        }
      },
      "source": [
        "# Accuracy\n",
        "from sklearn.metrics import accuracy_score\n",
        "accuracy = accuracy_score(y_true=test_data['sentiment'], y_pred=model.predict(test_matrix))\n",
        "print (\"Test Accuracy: %s\" % accuracy)"
      ],
      "execution_count": 0,
      "outputs": [
        {
          "output_type": "stream",
          "text": [
            "Test Accuracy: 0.8948463356973996\n"
          ],
          "name": "stdout"
        }
      ]
    },
    {
      "cell_type": "markdown",
      "metadata": {
        "id": "KWDJGX5ZjnLM",
        "colab_type": "text"
      },
      "source": [
        "Baseline: Predicción de la clase mayoritaria"
      ]
    },
    {
      "cell_type": "code",
      "metadata": {
        "id": "xBHp0rKUjfL8",
        "colab_type": "code",
        "outputId": "fa65d5f7-1086-499a-b592-5d36d28eec25",
        "colab": {
          "base_uri": "https://localhost:8080/",
          "height": 35
        }
      },
      "source": [
        "baseline = len(test_data[test_data['sentiment'] == 1])/float(len(test_data))\n",
        "print (\"Baseline accuracy (majority class classifier): %s\" % baseline)\n"
      ],
      "execution_count": 0,
      "outputs": [
        {
          "output_type": "stream",
          "text": [
            "Baseline accuracy (majority class classifier): 0.5015602836879433\n"
          ],
          "name": "stdout"
        }
      ]
    },
    {
      "cell_type": "markdown",
      "metadata": {
        "id": "8FVyiMBSjq8b",
        "colab_type": "text"
      },
      "source": [
        "Matriz de confunsión"
      ]
    },
    {
      "cell_type": "code",
      "metadata": {
        "id": "XUdiUNS7jwMn",
        "colab_type": "code",
        "outputId": "27643740-11c0-4b26-b923-052c749da679",
        "colab": {
          "base_uri": "https://localhost:8080/",
          "height": 121
        }
      },
      "source": [
        "from sklearn.metrics import confusion_matrix\n",
        "cmat = confusion_matrix(y_true=test_data['sentiment'],y_pred=model.predict(test_matrix),labels=model.classes_) # use the same order of class as the LR model.\n",
        "print (' target_label | predicted_label | count ')\n",
        "print ('‐‐‐‐‐‐‐‐‐‐‐‐‐‐+‐‐‐‐‐‐‐‐‐‐‐‐‐‐‐‐‐+‐‐‐‐‐‐‐')\n",
        "# Imprimir matriz de confusión\n",
        "for i, target_label in enumerate(model.classes_):\n",
        " for j, predicted_label in enumerate(model.classes_):\n",
        "  print ('{0:^13} | {1:^15} | {2:5d}'.format(target_label, predicted_label, cmat[i,j]))\n"
      ],
      "execution_count": 0,
      "outputs": [
        {
          "output_type": "stream",
          "text": [
            " target_label | predicted_label | count \n",
            "‐‐‐‐‐‐‐‐‐‐‐‐‐‐+‐‐‐‐‐‐‐‐‐‐‐‐‐‐‐‐‐+‐‐‐‐‐‐‐\n",
            "     -1       |       -1        |  4718\n",
            "     -1       |        1        |   553\n",
            "      1       |       -1        |   559\n",
            "      1       |        1        |  4745\n"
          ],
          "name": "stdout"
        }
      ]
    },
    {
      "cell_type": "markdown",
      "metadata": {
        "id": "_fXEEX64j2U8",
        "colab_type": "text"
      },
      "source": [
        "Otras métricas"
      ]
    },
    {
      "cell_type": "code",
      "metadata": {
        "id": "ycfs0VNWj4lt",
        "colab_type": "code",
        "outputId": "3ad82f5f-8d48-40fa-cd65-b2636a34862b",
        "colab": {
          "base_uri": "https://localhost:8080/",
          "height": 50
        }
      },
      "source": [
        "from sklearn.metrics import precision_score\n",
        "precision = precision_score(y_true=test_data['sentiment'],y_pred=model.predict(test_matrix))\n",
        "print (\"Precision de datos de test: %s\" % precision)\n",
        "\n",
        "\n",
        "from sklearn.metrics import recall_score\n",
        "recall = recall_score(y_true=test_data['sentiment'],y_pred=model.predict(test_matrix))\n",
        "print (\"Recall de datos de test: %s\" % recall)"
      ],
      "execution_count": 0,
      "outputs": [
        {
          "output_type": "stream",
          "text": [
            "Precision de datos de test: 0.8956209890524727\n",
            "Recall de datos de test: 0.8946078431372549\n"
          ],
          "name": "stdout"
        }
      ]
    },
    {
      "cell_type": "markdown",
      "metadata": {
        "id": "VLAabUt7j5rb",
        "colab_type": "text"
      },
      "source": [
        "Precision recall tradeoff"
      ]
    },
    {
      "cell_type": "code",
      "metadata": {
        "id": "2NWp0NgDj8Xk",
        "colab_type": "code",
        "outputId": "19755487-9435-44a4-a647-fa0f442116f4",
        "colab": {
          "base_uri": "https://localhost:8080/",
          "height": 118
        }
      },
      "source": [
        "# Varying the threshold\n",
        "\n",
        "def apply_threshold(probabilities, threshold):\n",
        "### YOUR CODE GOES HERE\n",
        "# +1 if >= threshold and ‐1 otherwise.\n",
        "  return [1 if x >= threshold else -1 for x in probabilities]\n",
        "\n",
        "probabilities = model.predict_proba(test_matrix)[:,1]\n",
        "predictions_with_default_threshold = apply_threshold(probabilities, 0.5)\n",
        "predictions_with_high_threshold = apply_threshold(probabilities, 0.9)\n",
        "\n",
        "print (\"Number of positive predicted reviews (threshold = 0.5): %s\" % \\\n",
        "(sum([x for x in predictions_with_default_threshold if x == 1])))\n",
        "\n",
        "print (\"Number of positive predicted reviews (threshold = 0.9): %s\" % \\\n",
        "(sum([x for x in predictions_with_high_threshold if x == 1])))\n",
        "\n",
        "\n",
        "precision_with_default_threshold = precision_score(y_true=test_data['sentiment'],y_pred=predictions_with_default_threshold)\n",
        "recall_with_default_threshold = recall_score(y_true=test_data['sentiment'],y_pred=predictions_with_default_threshold)\n",
        "precision_with_high_threshold = precision_score(y_true=test_data['sentiment'],y_pred=predictions_with_high_threshold)\n",
        "recall_with_high_threshold = recall_score(y_true=test_data['sentiment'],y_pred=predictions_with_high_threshold)\n",
        "\n",
        "print (\"Precision (threshold = 0.5): %s\" % precision_with_default_threshold)\n",
        "print (\"Recall (threshold = 0.5) : %s\" % recall_with_default_threshold)\n",
        "\n",
        "print (\"Precision (threshold = 0.9): %s\" % precision_with_high_threshold)\n",
        "print (\"Recall (threshold = 0.9) : %s\" % recall_with_high_threshold)"
      ],
      "execution_count": 0,
      "outputs": [
        {
          "output_type": "stream",
          "text": [
            "Number of positive predicted reviews (threshold = 0.5): 5298\n",
            "Number of positive predicted reviews (threshold = 0.9): 3964\n",
            "Precision (threshold = 0.5): 0.8956209890524727\n",
            "Recall (threshold = 0.5) : 0.8946078431372549\n",
            "Precision (threshold = 0.9): 0.9548435923309788\n",
            "Recall (threshold = 0.9) : 0.7136123680241327\n"
          ],
          "name": "stdout"
        }
      ]
    },
    {
      "cell_type": "markdown",
      "metadata": {
        "id": "SPVmqMDQkBpD",
        "colab_type": "text"
      },
      "source": [
        "Curva presición y recall"
      ]
    },
    {
      "cell_type": "code",
      "metadata": {
        "id": "MBDmbJ_MkDvV",
        "colab_type": "code",
        "outputId": "9278a68c-a8c7-4b70-c566-2d31bcb75a3a",
        "colab": {
          "base_uri": "https://localhost:8080/",
          "height": 1000
        }
      },
      "source": [
        "threshold_values = numpy.linspace(0.5, 0.999999, num=100)\n",
        "precision_all = []\n",
        "recall_all = []\n",
        "\n",
        "\n",
        "for threshold in threshold_values:\n",
        "    predictions = apply_threshold(probabilities, threshold)\n",
        "    precision = precision_score(y_true=test_data['sentiment'],y_pred=predictions)\n",
        "    recall = recall_score(y_true=test_data['sentiment'],y_pred=predictions)\n",
        "    print ('Metrics Threshold %s Precision %s Recall %s' % (threshold, precision, recall))  \n",
        "    precision_all.append(precision)\n",
        "    recall_all.append(recall)\n",
        "\n",
        "\n",
        "import matplotlib.pyplot as plt\n",
        "\n",
        "\n",
        "def plot_pr_curve(precision, recall, title):\n",
        "    plt.rcParams['figure.figsize'] = 7, 5\n",
        "    plt.locator_params(axis = 'x', nbins = 5)\n",
        "    plt.plot(precision, recall, 'b-', linewidth=4.0, color = '#B0017F')\n",
        "    plt.title(title)\n",
        "    plt.xlabel('Precision')\n",
        "    plt.ylabel('Recall')\n",
        "    plt.xlim(0.94, 1.0)   #0.78\n",
        "    plt.ylim(0.0, 1.0)\n",
        "    plt.rcParams.update({'font.size': 16})\n",
        "\n",
        "plot_pr_curve(precision_all, recall_all, 'Precision recall curve (all)')"
      ],
      "execution_count": 0,
      "outputs": [
        {
          "output_type": "stream",
          "text": [
            "Metrics Threshold 0.5 Precision 0.8956209890524727 Recall 0.8946078431372549\n",
            "Metrics Threshold 0.5050504949494949 Precision 0.8986834573554665 Recall 0.8880090497737556\n",
            "Metrics Threshold 0.5101009898989899 Precision 0.8990632766201491 Recall 0.8866892911010558\n",
            "Metrics Threshold 0.5151514848484848 Precision 0.9001150306748467 Recall 0.8851809954751131\n",
            "Metrics Threshold 0.5202019797979798 Precision 0.9008645533141211 Recall 0.8840497737556561\n",
            "Metrics Threshold 0.5252524747474747 Precision 0.9016172506738545 Recall 0.8829185520361991\n",
            "Metrics Threshold 0.5303029696969697 Precision 0.9026651216685979 Recall 0.8812217194570136\n",
            "Metrics Threshold 0.5353534646464646 Precision 0.9040247678018576 Recall 0.8808446455505279\n",
            "Metrics Threshold 0.5404039595959595 Precision 0.9051590380139644 Recall 0.8799019607843137\n",
            "Metrics Threshold 0.5454544545454545 Precision 0.9054552514074937 Recall 0.8793363499245852\n",
            "Metrics Threshold 0.5505049494949494 Precision 0.9059945504087193 Recall 0.8776395173453997\n",
            "Metrics Threshold 0.5555554444444444 Precision 0.907353228008582 Recall 0.8770739064856712\n",
            "Metrics Threshold 0.5606059393939394 Precision 0.9075449569976545 Recall 0.8753770739064857\n",
            "Metrics Threshold 0.5656564343434344 Precision 0.9085210577864838 Recall 0.8744343891402715\n",
            "Metrics Threshold 0.5707069292929293 Precision 0.9096976835492736 Recall 0.8736802413273002\n",
            "Metrics Threshold 0.5757574242424243 Precision 0.9101454974439638 Recall 0.872737556561086\n",
            "Metrics Threshold 0.5808079191919192 Precision 0.9106685071977914 Recall 0.8706636500754148\n",
            "Metrics Threshold 0.5858584141414142 Precision 0.9112998814697748 Recall 0.8697209653092006\n",
            "Metrics Threshold 0.5909089090909091 Precision 0.912621359223301 Recall 0.8684012066365008\n",
            "Metrics Threshold 0.595959404040404 Precision 0.9128795395911887 Recall 0.8672699849170438\n",
            "Metrics Threshold 0.601009898989899 Precision 0.9133545310015898 Recall 0.8665158371040724\n",
            "Metrics Threshold 0.6060603939393939 Precision 0.9139613622784306 Recall 0.8651960784313726\n",
            "Metrics Threshold 0.6111108888888889 Precision 0.9158504897061763 Recall 0.8638763197586727\n",
            "Metrics Threshold 0.6161613838383838 Precision 0.9161496898138883 Recall 0.8631221719457014\n",
            "Metrics Threshold 0.6212118787878788 Precision 0.9167502507522568 Recall 0.8616138763197587\n",
            "Metrics Threshold 0.6262623737373737 Precision 0.9175547958978484 Recall 0.8602941176470589\n",
            "Metrics Threshold 0.6313128686868686 Precision 0.9180261832829809 Recall 0.8593514328808446\n",
            "Metrics Threshold 0.6363633636363636 Precision 0.9182973572725439 Recall 0.8582202111613876\n",
            "Metrics Threshold 0.6414138585858585 Precision 0.918989898989899 Recall 0.8576546003016591\n",
            "Metrics Threshold 0.6464643535353535 Precision 0.9194495041489577 Recall 0.8565233785822021\n",
            "Metrics Threshold 0.6515148484848485 Precision 0.9207800121876905 Recall 0.8546380090497737\n",
            "Metrics Threshold 0.6565653434343435 Precision 0.9215726217152169 Recall 0.8529411764705882\n",
            "Metrics Threshold 0.6616158383838384 Precision 0.9221177432542927 Recall 0.8504901960784313\n",
            "Metrics Threshold 0.6666663333333334 Precision 0.9227617291538619 Recall 0.8491704374057315\n",
            "Metrics Threshold 0.6717168282828283 Precision 0.9237723443599754 Recall 0.8476621417797888\n",
            "Metrics Threshold 0.6767673232323232 Precision 0.9245827323305172 Recall 0.8459653092006033\n",
            "Metrics Threshold 0.6818178181818182 Precision 0.9258111179995867 Recall 0.8446455505279035\n",
            "Metrics Threshold 0.6868683131313131 Precision 0.9269254722856549 Recall 0.8418174962292609\n",
            "Metrics Threshold 0.6919188080808081 Precision 0.9273824386183936 Recall 0.8403092006033183\n",
            "Metrics Threshold 0.696969303030303 Precision 0.9292275574112735 Recall 0.8391779788838613\n",
            "Metrics Threshold 0.702019797979798 Precision 0.9299016530654949 Recall 0.8378582202111614\n",
            "Metrics Threshold 0.7070702929292929 Precision 0.930607966457023 Recall 0.8369155354449472\n",
            "Metrics Threshold 0.7121207878787879 Precision 0.9310634720470786 Recall 0.8352187028657617\n",
            "Metrics Threshold 0.7171712828282828 Precision 0.9313395113732098 Recall 0.833710407239819\n",
            "Metrics Threshold 0.7222217777777777 Precision 0.9324181626187962 Recall 0.8323906485671192\n",
            "Metrics Threshold 0.7272722727272727 Precision 0.9328105129292072 Recall 0.8297511312217195\n",
            "Metrics Threshold 0.7323227676767676 Precision 0.933064173395665 Recall 0.827865761689291\n",
            "Metrics Threshold 0.7373732626262626 Precision 0.9332337883959044 Recall 0.8248491704374057\n",
            "Metrics Threshold 0.7424237575757575 Precision 0.934475374732334 Recall 0.8227752639517345\n",
            "Metrics Threshold 0.7474742525252525 Precision 0.9344227047946678 Recall 0.8193815987933635\n",
            "Metrics Threshold 0.7525247474747474 Precision 0.934899762879931 Recall 0.817684766214178\n",
            "Metrics Threshold 0.7575752424242423 Precision 0.9363774074875568 Recall 0.8157993966817496\n",
            "Metrics Threshold 0.7626257373737373 Precision 0.936917407327119 Recall 0.8148567119155354\n",
            "Metrics Threshold 0.7676762323232322 Precision 0.9372012168622338 Recall 0.8131598793363499\n",
            "Metrics Threshold 0.7727267272727272 Precision 0.9372138652714193 Recall 0.8105203619909502\n",
            "Metrics Threshold 0.7777772222222221 Precision 0.9383067162546489 Recall 0.8086349924585219\n",
            "Metrics Threshold 0.7828277171717171 Precision 0.9383095499451153 Recall 0.8058069381598794\n",
            "Metrics Threshold 0.787878212121212 Precision 0.9393337745422458 Recall 0.802790346907994\n",
            "Metrics Threshold 0.792928707070707 Precision 0.9405633178088267 Recall 0.7995852187028658\n",
            "Metrics Threshold 0.797979202020202 Precision 0.9416090929351459 Recall 0.7965686274509803\n",
            "Metrics Threshold 0.803029696969697 Precision 0.9416778824585016 Recall 0.7914781297134238\n",
            "Metrics Threshold 0.8080801919191919 Precision 0.9429537767756483 Recall 0.7884615384615384\n",
            "Metrics Threshold 0.8131306868686868 Precision 0.9436268960833145 Recall 0.7858220211161387\n",
            "Metrics Threshold 0.8181811818181818 Precision 0.9442675159235668 Recall 0.7826168929110106\n",
            "Metrics Threshold 0.8232316767676767 Precision 0.9453214367421643 Recall 0.7790346907993967\n",
            "Metrics Threshold 0.8282821717171717 Precision 0.9456971928209849 Recall 0.7748868778280543\n",
            "Metrics Threshold 0.8333326666666666 Precision 0.9463459759481961 Recall 0.7714932126696833\n",
            "Metrics Threshold 0.8383831616161616 Precision 0.9468060394889664 Recall 0.7684766214177979\n",
            "Metrics Threshold 0.8434336565656565 Precision 0.9478971962616822 Recall 0.764894419306184\n",
            "Metrics Threshold 0.8484841515151514 Precision 0.9487179487179487 Recall 0.7603695324283559\n",
            "Metrics Threshold 0.8535346464646465 Precision 0.949692961738309 Recall 0.7581070889894419\n",
            "Metrics Threshold 0.8585851414141414 Precision 0.9501069137562367 Recall 0.7539592760180995\n",
            "Metrics Threshold 0.8636356363636364 Precision 0.9502273271117492 Recall 0.7486802413273002\n",
            "Metrics Threshold 0.8686861313131313 Precision 0.9503853564547207 Recall 0.7439668174962293\n",
            "Metrics Threshold 0.8737366262626263 Precision 0.9506172839506173 Recall 0.7403846153846154\n",
            "Metrics Threshold 0.8787871212121212 Precision 0.9514515735545255 Recall 0.7352941176470589\n",
            "Metrics Threshold 0.8838376161616162 Precision 0.9521824423737126 Recall 0.7320889894419306\n",
            "Metrics Threshold 0.8888881111111111 Precision 0.9522158950235207 Recall 0.7251131221719457\n",
            "Metrics Threshold 0.893938606060606 Precision 0.9533782099227125 Recall 0.7209653092006033\n",
            "Metrics Threshold 0.898989101010101 Precision 0.9546941857538385 Recall 0.7151206636500754\n",
            "Metrics Threshold 0.9040395959595959 Precision 0.9559010960999236 Recall 0.7070135746606335\n",
            "Metrics Threshold 0.9090900909090909 Precision 0.9577210621294148 Recall 0.7004147812971342\n",
            "Metrics Threshold 0.9141405858585858 Precision 0.9587897756911842 Recall 0.6930618401206636\n",
            "Metrics Threshold 0.9191910808080808 Precision 0.9590705043570108 Recall 0.6847662141779789\n",
            "Metrics Threshold 0.9242415757575757 Precision 0.9595065701260391 Recall 0.6745852187028658\n",
            "Metrics Threshold 0.9292920707070706 Precision 0.9611729568286723 Recall 0.667420814479638\n",
            "Metrics Threshold 0.9343425656565656 Precision 0.9630955659597907 Recall 0.6593137254901961\n",
            "Metrics Threshold 0.9393930606060605 Precision 0.9641958041958042 Recall 0.6498868778280543\n",
            "Metrics Threshold 0.9444435555555555 Precision 0.9661547212741752 Recall 0.6404600301659125\n",
            "Metrics Threshold 0.9494940505050504 Precision 0.9667052692530399 Recall 0.629524886877828\n",
            "Metrics Threshold 0.9545445454545454 Precision 0.9669128508124076 Recall 0.6170814479638009\n",
            "Metrics Threshold 0.9595950404040403 Precision 0.9687689508793208 Recall 0.6023755656108597\n",
            "Metrics Threshold 0.9646455353535353 Precision 0.9702380952380952 Recall 0.5838989441930619\n",
            "Metrics Threshold 0.9696960303030302 Precision 0.9719960924780202 Recall 0.5627828054298643\n",
            "Metrics Threshold 0.9747465252525251 Precision 0.9741760108732586 Recall 0.5405354449472096\n",
            "Metrics Threshold 0.9797970202020201 Precision 0.9745519713261649 Recall 0.5126319758672699\n",
            "Metrics Threshold 0.984847515151515 Precision 0.9771936606107461 Recall 0.4766214177978884\n",
            "Metrics Threshold 0.98989801010101 Precision 0.9801124081279723 Recall 0.4274132730015083\n",
            "Metrics Threshold 0.9949485050505049 Precision 0.9841017488076311 Recall 0.3501131221719457\n",
            "Metrics Threshold 0.999999 Precision 0.9819277108433735 Recall 0.0307315233785822\n"
          ],
          "name": "stdout"
        },
        {
          "output_type": "display_data",
          "data": {
            "image/png": "[encoded data removed]",
            "text/plain": [
              "<Figure size 504x360 with 1 Axes>"
            ]
          },
          "metadata": {
            "tags": []
          }
        }
      ]
    }
  ]
}